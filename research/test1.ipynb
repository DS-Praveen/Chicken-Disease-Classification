{
 "cells": [
  {
   "cell_type": "code",
   "execution_count": 5,
   "metadata": {},
   "outputs": [
    {
     "name": "stdout",
     "output_type": "stream",
     "text": [
      "Dog Breed is: {'a'}\n",
      "Dog Breed is: {'gs'}\n"
     ]
    }
   ],
   "source": [
    "\n",
    "class Dog:\n",
    "    def __init__(self, breed = \"gs\", colour = \"black\"):\n",
    "        self.breed = breed\n",
    "        self.colour = colour\n",
    "\n",
    "d1 = Dog(\"a\", \"b\")\n",
    "print(\"Dog Breed is:\", {d1.breed})\n",
    "d = Dog()\n",
    "print(\"Dog Breed is:\", {d.breed})\n"
   ]
  }
 ],
 "metadata": {
  "kernelspec": {
   "display_name": "chicken",
   "language": "python",
   "name": "python3"
  },
  "language_info": {
   "codemirror_mode": {
    "name": "ipython",
    "version": 3
   },
   "file_extension": ".py",
   "mimetype": "text/x-python",
   "name": "python",
   "nbconvert_exporter": "python",
   "pygments_lexer": "ipython3",
   "version": "3.11.1"
  },
  "orig_nbformat": 4
 },
 "nbformat": 4,
 "nbformat_minor": 2
}
