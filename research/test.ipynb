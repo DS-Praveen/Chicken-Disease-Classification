
class Dog:
    def __init__(self, breed, colour):
        self.breed = breed
        self.colour = colour

d1 = Dog("a", "b")
print("Dog Breed is:", {d1.breed})
